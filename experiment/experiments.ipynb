{
  "cells": [
    {
      "cell_type": "markdown",
      "metadata": {
        "colab_type": "text",
        "id": "view-in-github"
      },
      "source": [
        "<a href=\"https://colab.research.google.com/github/tejatanush/Medical-Charges-Prediction/blob/main/Medical_Charges_Prediction.ipynb\" target=\"_parent\"><img src=\"https://colab.research.google.com/assets/colab-badge.svg\" alt=\"Open In Colab\"/></a>"
      ]
    },
    {
      "cell_type": "markdown",
      "metadata": {
        "id": "ninQkzxShDsu"
      },
      "source": [
        "# Model Description\n",
        "This model is capable of predicting if Medical Chrges prediction based on features like age,BMI, Gender, Smoking, No.of Children..etc . This helps people to get a visualization of how much they will charge lifetime for their health condition. Hospitals and clinics also be helpful by providing information about patient charges quickly."
      ]
    },
    {
      "cell_type": "markdown",
      "metadata": {
        "id": "X6X8AEj3hF5I"
      },
      "source": [
        "# Steps to build a model:\n",
        "1. Import required libraries\n",
        "2. Import dataset\n",
        "3. Data Preprocessing\n",
        "* Find and fill missing values\n",
        "* Encoding data\n",
        "* Splitting into training and testing set\n",
        "* Feature Scaling\n",
        "4. Selection of model\n",
        "5. Build a Model\n",
        "6. Predict Results\n",
        "7. Evaluate R-Squared score"
      ]
    },
    {
      "cell_type": "markdown",
      "metadata": {
        "id": "GITUPkFwizEP"
      },
      "source": [
        "# 1. Import libraries"
      ]
    },
    {
      "cell_type": "code",
      "execution_count": null,
      "metadata": {
        "id": "fsvPIImOi37N"
      },
      "outputs": [],
      "source": [
        "import pandas as pd\n",
        "import matplotlib.pyplot as plt\n",
        "import numpy as np"
      ]
    },
    {
      "cell_type": "markdown",
      "metadata": {
        "id": "On8DNjmqi6Oq"
      },
      "source": [
        "# 2. Import dataset\n",
        "This dataset has many independent features to predict medical charges required for a patient for lifetime.\n",
        "\n",
        "Reference:\n",
        "https://www.kaggle.com/datasets/mirichoi0218/insurance\n",
        "Lets split our data into two parts x (dependent variables) and y (independent variable)."
      ]
    },
    {
      "cell_type": "code",
      "execution_count": null,
      "metadata": {
        "colab": {
          "base_uri": "https://localhost:8080/"
        },
        "id": "US6iLA0bjvlk",
        "outputId": "42a822ab-029a-4f53-e600-76f4ac4676c6"
      },
      "outputs": [],
      "source": [
        "dataset=pd.read_csv(\"https://raw.githubusercontent.com/tejatanush/Medical-Charges-Prediction/refs/heads/main/Health_Price_Prediction.csv\")\n",
        "x=dataset.iloc[:,0:6].values\n",
        "y=dataset.iloc[:,6].values\n",
        "print(dataset.head())"
      ]
    },
    {
      "cell_type": "markdown",
      "metadata": {
        "id": "anruTz06j4AS"
      },
      "source": [
        "# 3. Data Preprocessing"
      ]
    },
    {
      "cell_type": "markdown",
      "metadata": {
        "id": "viY0aCsxj8LU"
      },
      "source": [
        "# Find and filling missing values"
      ]
    },
    {
      "cell_type": "code",
      "execution_count": null,
      "metadata": {
        "colab": {
          "base_uri": "https://localhost:8080/"
        },
        "id": "RTzmlOgij_hH",
        "outputId": "3daf72fd-90aa-417c-f875-3365ae1a1375"
      },
      "outputs": [],
      "source": [
        "missing_values = dataset.isnull().sum()\n",
        "print(missing_values)"
      ]
    },
    {
      "cell_type": "markdown",
      "metadata": {
        "id": "OdHdJSCckCg9"
      },
      "source": [
        "Hence we have no missing values we can skip this step."
      ]
    },
    {
      "cell_type": "markdown",
      "metadata": {
        "id": "ggnj3wcpkWwC"
      },
      "source": [
        "# Encoding data\n",
        "From our data we have categorical features and some label features. So that we should encode categorcal and label encoding in 2 steps."
      ]
    },
    {
      "cell_type": "code",
      "execution_count": null,
      "metadata": {
        "id": "viLU2zQLkKgB"
      },
      "outputs": [],
      "source": [
        "from sklearn.compose import ColumnTransformer\n",
        "from sklearn.preprocessing import LabelEncoder\n",
        "from sklearn.preprocessing import OneHotEncoder\n",
        "le=LabelEncoder()\n",
        "columns_to_encode=[1,4]\n",
        "for column in columns_to_encode:\n",
        "    x[:,column]=le.fit_transform(x[:,column])\n",
        "ct=ColumnTransformer(transformers=[(\"encoder1\",OneHotEncoder(),[3]),(\"encoder2\",OneHotEncoder(),[5])],remainder='passthrough')\n",
        "x=np.array(ct.fit_transform(x))\n",
        "x=x.astype('float32')\n",
        "y=y.astype('float32')"
      ]
    },
    {
      "cell_type": "markdown",
      "metadata": {
        "id": "A6rUw0s_ktUJ"
      },
      "source": [
        "#Splitting into training set and test set\n",
        "Let's split data so that 80% of data will be training set and remaining 20% will be testing set."
      ]
    },
    {
      "cell_type": "code",
      "execution_count": null,
      "metadata": {
        "colab": {
          "base_uri": "https://localhost:8080/"
        },
        "id": "VW9qynQBksQi",
        "outputId": "07fea117-0cf0-4a42-ec96-0053b9243079"
      },
      "outputs": [],
      "source": [
        "from sklearn.model_selection import train_test_split\n",
        "x_train,x_test,y_train,y_test=train_test_split(x,y,test_size=0.2,random_state=0)\n",
        "#Let's check how data splitted\n",
        "print(x_train)\n",
        "print(y_train)"
      ]
    },
    {
      "cell_type": "markdown",
      "metadata": {
        "id": "GhZbfnVzk4wT"
      },
      "source": [
        "We can see that data is not in certain order.... it mean the data is splitted in random."
      ]
    },
    {
      "cell_type": "markdown",
      "metadata": {
        "id": "gdbBmN58lady"
      },
      "source": [
        "Feature Scaling\n",
        "Let's Normalize BMI, Age, Charges.Because these are having unique numerical values and by normalizing them model may understand better patterns between them."
      ]
    },
    {
      "cell_type": "code",
      "execution_count": null,
      "metadata": {
        "colab": {
          "base_uri": "https://localhost:8080/"
        },
        "id": "zOYTUcWklnpJ",
        "outputId": "3fa47bb1-3b3c-40a2-f298-f9605ab254e8"
      },
      "outputs": [],
      "source": [
        "from sklearn.preprocessing import MinMaxScaler\n",
        "sc=MinMaxScaler()\n",
        "x_train[:,10]=sc.fit_transform((x_train[:,10]).reshape(-1,1)).flatten()\n",
        "x_test[:,10]=sc.fit_transform((x_test[:,10]).reshape(-1,1)).flatten()\n",
        "x_train[:,12]=sc.fit_transform((x_train[:,12]).reshape(-1,1)).flatten()\n",
        "x_test[:,12]=sc.fit_transform((x_test[:,12]).reshape(-1,1)).flatten()\n",
        "y_train=sc.fit_transform(y_train.reshape(-1,1))\n",
        "y_test=sc.transform(y_test.reshape(-1,1))\n",
        "print(x_train[2])\n",
        "print(y_train[2])"
      ]
    },
    {
      "cell_type": "markdown",
      "metadata": {
        "id": "C4vdWUhplvJG"
      },
      "source": [
        "So, the Age,BMI,Charges were normalized into values between 0 and 1."
      ]
    },
    {
      "cell_type": "markdown",
      "metadata": {
        "id": "Kq1Z3p05l2mr"
      },
      "source": [
        "# 4. Selection of model\n",
        "Hence the prediction of charges will be many unique values which predicted from many different features. So let's use regression model to predict charges."
      ]
    },
    {
      "cell_type": "markdown",
      "metadata": {
        "id": "nAKokDYImOYE"
      },
      "source": [
        "#5. Build a model\n",
        "**Create model:** In regressio problems we make our model from baseline machine learning models. I have already evaluated many models out of them Randonm Forest Regressor model is the best for predicting charges as it showing the good R-Swuared values."
      ]
    },
    {
      "cell_type": "code",
      "execution_count": null,
      "metadata": {
        "id": "f2jsHtxKlr0C"
      },
      "outputs": [],
      "source": [
        "from sklearn.ensemble import RandomForestRegressor\n",
        "regressor=RandomForestRegressor(n_estimators=40,random_state=0)\n"
      ]
    },
    {
      "cell_type": "markdown",
      "metadata": {
        "id": "onukhnzrpg54"
      },
      "source": [
        "We have constructed the outline of model in a robust manner."
      ]
    },
    {
      "cell_type": "markdown",
      "metadata": {
        "id": "NP-NKHgonNbr"
      },
      "source": [
        "**Fit Model:** Lets fit our model with x_train and y_train data."
      ]
    },
    {
      "cell_type": "code",
      "execution_count": null,
      "metadata": {
        "colab": {
          "base_uri": "https://localhost:8080/",
          "height": 109
        },
        "id": "U0RuAwOdnJSv",
        "outputId": "453d75f4-ce4f-4d96-9a37-fbe5ef0a5fa1"
      },
      "outputs": [],
      "source": [
        "regressor.fit(x_train,y_train)"
      ]
    },
    {
      "cell_type": "markdown",
      "metadata": {
        "id": "7dsjVxlPocw5"
      },
      "source": [
        "We have fit our model with x_train and y_train and we can see summary of model."
      ]
    },
    {
      "cell_type": "markdown",
      "metadata": {
        "id": "nhwN6uDVnbVU"
      },
      "source": [
        "# 6. Predict Results\n",
        "Let's Predict the results of x_test and compare them with y_test."
      ]
    },
    {
      "cell_type": "code",
      "execution_count": null,
      "metadata": {
        "colab": {
          "base_uri": "https://localhost:8080/"
        },
        "id": "DXlQr9OwnZ8z",
        "outputId": "6e85789a-9f99-43be-9319-b829a4e5fc3d"
      },
      "outputs": [],
      "source": [
        "y_pred=regressor.predict(x_test)\n",
        "y_pred=y_pred.reshape(-1,1)\n",
        "y_pred=sc.inverse_transform(y_pred)\n",
        "y_test=sc.inverse_transform(y_test)\n",
        "print(np.concatenate((y_pred.reshape(len(y_pred),1),y_test.reshape(len(y_test),1)),1))"
      ]
    },
    {
      "cell_type": "markdown",
      "metadata": {
        "id": "Wl3g5uSXokrd"
      },
      "source": [
        "Thus the results are very good as they are predicting charges which are closer to original charges. This seems that our model trains good and providing good results.**bold text**"
      ]
    },
    {
      "cell_type": "markdown",
      "metadata": {
        "id": "g2VDC_gbo3Ls"
      },
      "source": [
        "#7. Evaluate model score"
      ]
    },
    {
      "cell_type": "code",
      "execution_count": null,
      "metadata": {
        "colab": {
          "base_uri": "https://localhost:8080/"
        },
        "id": "7tGhYVBmo7eK",
        "outputId": "53f111d3-d5bc-4044-f121-05ccf182a014"
      },
      "outputs": [],
      "source": [
        "from sklearn.metrics import r2_score\n",
        "result=r2_score(y_test,y_pred)\n",
        "print(result)"
      ]
    },
    {
      "cell_type": "markdown",
      "metadata": {
        "id": "GByM_1qio-_H"
      },
      "source": [
        "We are getting a good results that having R-Squared value with nearly 85.5% which mean the model performs very well in predicting charges."
      ]
    }
  ],
  "metadata": {
    "colab": {
      "authorship_tag": "ABX9TyMyaTt+KhxN9BbECWkHuPYU",
      "include_colab_link": true,
      "provenance": []
    },
    "kernelspec": {
      "display_name": "Python 3",
      "language": "python",
      "name": "python3"
    },
    "language_info": {
      "codemirror_mode": {
        "name": "ipython",
        "version": 3
      },
      "file_extension": ".py",
      "mimetype": "text/x-python",
      "name": "python",
      "nbconvert_exporter": "python",
      "pygments_lexer": "ipython3",
      "version": "3.8.20"
    }
  },
  "nbformat": 4,
  "nbformat_minor": 0
}
